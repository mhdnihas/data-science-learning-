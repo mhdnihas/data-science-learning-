{
 "cells": [
  {
   "cell_type": "code",
   "execution_count": 1,
   "id": "a587c5c4-c455-41f7-99fe-f3fc26d8ff7a",
   "metadata": {},
   "outputs": [],
   "source": [
    "import pandas as pd\n",
    "from sklearn.datasets import make_classification\n",
    "from sklearn.model_selection import train_test_split"
   ]
  },
  {
   "cell_type": "code",
   "execution_count": 2,
   "id": "2ee781a7-49cd-42a4-9373-9af25fc3424f",
   "metadata": {},
   "outputs": [],
   "source": [
    "X,y=make_classification(n_samples=1000,n_features=20,n_classes=2,random_state=27)"
   ]
  },
  {
   "cell_type": "code",
   "execution_count": 3,
   "id": "a50997e3-af2c-48ad-bf8a-7cdb64aec86d",
   "metadata": {},
   "outputs": [],
   "source": [
    "x_train,x_test,y_train,y_test=train_test_split(X,y,test_size=0.3,random_state=27)"
   ]
  },
  {
   "cell_type": "code",
   "execution_count": 4,
   "id": "a82f3aca-3e19-4d69-b76e-bdd7a0366850",
   "metadata": {},
   "outputs": [
    {
     "name": "stdout",
     "output_type": "stream",
     "text": [
      "           0         1         2         3         4         5         6   \\\n",
      "0   -0.258203  1.019808  1.524563  0.617243  0.148243  0.744111 -0.363963   \n",
      "1   -0.458166  0.828728 -0.656965 -0.056297  0.254895 -0.018241  0.313829   \n",
      "2   -0.387378  0.761818 -1.310351 -0.351663 -0.130643 -0.641420  0.152001   \n",
      "3   -2.394585 -0.036724  1.361228 -0.371470  1.871835 -1.226815  0.770733   \n",
      "4    0.258229 -1.600952  1.101282  1.659578  0.927923 -0.093182 -1.778309   \n",
      "..        ...       ...       ...       ...       ...       ...       ...   \n",
      "995 -0.724879  0.281545 -0.362035 -2.602418  0.699501 -0.328376  0.383521   \n",
      "996  2.085897  0.461640  0.372497 -1.838814  0.024923 -0.710831 -0.945424   \n",
      "997 -0.547793 -0.674539 -0.834644  1.050191 -0.797763  0.699879 -0.943583   \n",
      "998  0.559619 -0.625025  1.404538  0.593826 -0.270234 -0.519678 -1.407141   \n",
      "999 -1.424876  0.527146  0.157864 -0.926648 -0.801353  1.825411  0.999557   \n",
      "\n",
      "           7         8         9         10        11        12        13  \\\n",
      "0    1.549367  0.256960 -1.222225  0.636587  1.448634 -1.471582  1.918621   \n",
      "1   -0.386936 -1.632152 -2.059698  0.356881 -1.400478  0.326012  1.058607   \n",
      "2    0.941251  1.381526 -1.803593  0.749451  0.325846  0.742814  0.981221   \n",
      "3   -0.566035  0.688286  1.052618 -1.122666 -0.028873  0.498517 -1.113630   \n",
      "4    0.485978 -0.918154 -0.765634  0.601260  0.776797  0.182804 -0.963276   \n",
      "..        ...       ...       ...       ...       ...       ...       ...   \n",
      "995 -0.072851 -2.225106 -0.386934  1.686867  1.831139 -0.426400  1.068455   \n",
      "996  1.671489 -0.238396 -0.446206  0.747034 -1.104464  1.774805 -0.657410   \n",
      "997 -0.083061  1.525375  0.938323 -0.449004 -0.343585  0.145134  1.038857   \n",
      "998  1.923672 -0.161268 -1.092994 -0.534942 -1.230007 -0.821936 -1.078008   \n",
      "999  0.091012  0.332559 -0.601311  2.128989  1.417514  0.703116  0.341904   \n",
      "\n",
      "           14        15        16        17        18        19  \n",
      "0    2.584944  2.638990  0.069881  0.332721 -0.175407  1.501124  \n",
      "1   -0.668410 -0.622784 -0.405360  1.201937 -0.255835 -0.199313  \n",
      "2   -1.600239 -1.550548 -0.232538 -1.033209 -1.686671 -0.766836  \n",
      "3    1.640086  1.585018 -1.921666 -1.177293 -1.784434  0.132557  \n",
      "4    1.312165  1.265336  0.709714 -1.534325  0.698777 -1.625380  \n",
      "..        ...       ...       ...       ...       ...       ...  \n",
      "995 -0.253722 -0.210847  0.358016 -1.335716 -0.871125  0.658246  \n",
      "996  0.365474  0.337514  0.676548 -0.623767 -0.985299  0.067141  \n",
      "997 -0.921502 -0.874723  1.315291  0.578216 -1.172548  1.083019  \n",
      "998  1.709057  1.654835  0.732973 -1.669515 -0.292760  0.484569  \n",
      "999  0.301509  0.312341  0.292889  3.251636 -0.547791 -1.510333  \n",
      "\n",
      "[1000 rows x 20 columns]\n",
      "0      1\n",
      "1      1\n",
      "2      1\n",
      "3      0\n",
      "4      0\n",
      "      ..\n",
      "995    1\n",
      "996    0\n",
      "997    1\n",
      "998    0\n",
      "999    1\n",
      "Length: 1000, dtype: int32\n"
     ]
    }
   ],
   "source": [
    "print(pd.DataFrame(X))\n",
    "print(pd.Series(y))"
   ]
  },
  {
   "cell_type": "code",
   "execution_count": 6,
   "id": "c72d4df0-a324-4bf2-9059-933dfd12567f",
   "metadata": {},
   "outputs": [],
   "source": [
    "from sklearn.linear_model import LogisticRegression\n",
    "from sklearn.neighbors import KNeighborsClassifier\n"
   ]
  },
  {
   "cell_type": "code",
   "execution_count": 7,
   "id": "a391a5d1-f40a-453f-a442-cc6288ad83ef",
   "metadata": {},
   "outputs": [],
   "source": [
    "model1 = LogisticRegression()\n",
    "model2 = KNeighborsClassifier(n_neighbors=4)"
   ]
  },
  {
   "cell_type": "code",
   "execution_count": 11,
   "id": "bd7dfc83-745e-4641-a387-05f7b1ac89fe",
   "metadata": {},
   "outputs": [
    {
     "data": {
      "text/html": [
       "<style>#sk-container-id-1 {color: black;}#sk-container-id-1 pre{padding: 0;}#sk-container-id-1 div.sk-toggleable {background-color: white;}#sk-container-id-1 label.sk-toggleable__label {cursor: pointer;display: block;width: 100%;margin-bottom: 0;padding: 0.3em;box-sizing: border-box;text-align: center;}#sk-container-id-1 label.sk-toggleable__label-arrow:before {content: \"▸\";float: left;margin-right: 0.25em;color: #696969;}#sk-container-id-1 label.sk-toggleable__label-arrow:hover:before {color: black;}#sk-container-id-1 div.sk-estimator:hover label.sk-toggleable__label-arrow:before {color: black;}#sk-container-id-1 div.sk-toggleable__content {max-height: 0;max-width: 0;overflow: hidden;text-align: left;background-color: #f0f8ff;}#sk-container-id-1 div.sk-toggleable__content pre {margin: 0.2em;color: black;border-radius: 0.25em;background-color: #f0f8ff;}#sk-container-id-1 input.sk-toggleable__control:checked~div.sk-toggleable__content {max-height: 200px;max-width: 100%;overflow: auto;}#sk-container-id-1 input.sk-toggleable__control:checked~label.sk-toggleable__label-arrow:before {content: \"▾\";}#sk-container-id-1 div.sk-estimator input.sk-toggleable__control:checked~label.sk-toggleable__label {background-color: #d4ebff;}#sk-container-id-1 div.sk-label input.sk-toggleable__control:checked~label.sk-toggleable__label {background-color: #d4ebff;}#sk-container-id-1 input.sk-hidden--visually {border: 0;clip: rect(1px 1px 1px 1px);clip: rect(1px, 1px, 1px, 1px);height: 1px;margin: -1px;overflow: hidden;padding: 0;position: absolute;width: 1px;}#sk-container-id-1 div.sk-estimator {font-family: monospace;background-color: #f0f8ff;border: 1px dotted black;border-radius: 0.25em;box-sizing: border-box;margin-bottom: 0.5em;}#sk-container-id-1 div.sk-estimator:hover {background-color: #d4ebff;}#sk-container-id-1 div.sk-parallel-item::after {content: \"\";width: 100%;border-bottom: 1px solid gray;flex-grow: 1;}#sk-container-id-1 div.sk-label:hover label.sk-toggleable__label {background-color: #d4ebff;}#sk-container-id-1 div.sk-serial::before {content: \"\";position: absolute;border-left: 1px solid gray;box-sizing: border-box;top: 0;bottom: 0;left: 50%;z-index: 0;}#sk-container-id-1 div.sk-serial {display: flex;flex-direction: column;align-items: center;background-color: white;padding-right: 0.2em;padding-left: 0.2em;position: relative;}#sk-container-id-1 div.sk-item {position: relative;z-index: 1;}#sk-container-id-1 div.sk-parallel {display: flex;align-items: stretch;justify-content: center;background-color: white;position: relative;}#sk-container-id-1 div.sk-item::before, #sk-container-id-1 div.sk-parallel-item::before {content: \"\";position: absolute;border-left: 1px solid gray;box-sizing: border-box;top: 0;bottom: 0;left: 50%;z-index: -1;}#sk-container-id-1 div.sk-parallel-item {display: flex;flex-direction: column;z-index: 1;position: relative;background-color: white;}#sk-container-id-1 div.sk-parallel-item:first-child::after {align-self: flex-end;width: 50%;}#sk-container-id-1 div.sk-parallel-item:last-child::after {align-self: flex-start;width: 50%;}#sk-container-id-1 div.sk-parallel-item:only-child::after {width: 0;}#sk-container-id-1 div.sk-dashed-wrapped {border: 1px dashed gray;margin: 0 0.4em 0.5em 0.4em;box-sizing: border-box;padding-bottom: 0.4em;background-color: white;}#sk-container-id-1 div.sk-label label {font-family: monospace;font-weight: bold;display: inline-block;line-height: 1.2em;}#sk-container-id-1 div.sk-label-container {text-align: center;}#sk-container-id-1 div.sk-container {/* jupyter's `normalize.less` sets `[hidden] { display: none; }` but bootstrap.min.css set `[hidden] { display: none !important; }` so we also need the `!important` here to be able to override the default hidden behavior on the sphinx rendered scikit-learn.org. See: https://github.com/scikit-learn/scikit-learn/issues/21755 */display: inline-block !important;position: relative;}#sk-container-id-1 div.sk-text-repr-fallback {display: none;}</style><div id=\"sk-container-id-1\" class=\"sk-top-container\"><div class=\"sk-text-repr-fallback\"><pre>KNeighborsClassifier(n_neighbors=4)</pre><b>In a Jupyter environment, please rerun this cell to show the HTML representation or trust the notebook. <br />On GitHub, the HTML representation is unable to render, please try loading this page with nbviewer.org.</b></div><div class=\"sk-container\" hidden><div class=\"sk-item\"><div class=\"sk-estimator sk-toggleable\"><input class=\"sk-toggleable__control sk-hidden--visually\" id=\"sk-estimator-id-1\" type=\"checkbox\" checked><label for=\"sk-estimator-id-1\" class=\"sk-toggleable__label sk-toggleable__label-arrow\">KNeighborsClassifier</label><div class=\"sk-toggleable__content\"><pre>KNeighborsClassifier(n_neighbors=4)</pre></div></div></div></div></div>"
      ],
      "text/plain": [
       "KNeighborsClassifier(n_neighbors=4)"
      ]
     },
     "execution_count": 11,
     "metadata": {},
     "output_type": "execute_result"
    }
   ],
   "source": [
    "model1.fit(x_train, y_train)\n",
    "model2.fit(x_train, y_train)"
   ]
  },
  {
   "cell_type": "code",
   "execution_count": 12,
   "id": "5ca2487a-d620-414b-a822-5fb6dc878df2",
   "metadata": {},
   "outputs": [],
   "source": [
    "pred_prob1 = model1.predict_proba(x_test)\n",
    "pred_prob2 = model2.predict_proba(x_test)"
   ]
  },
  {
   "cell_type": "code",
   "execution_count": 13,
   "id": "a82b36de-1000-4deb-92fe-ec7f6122ea4d",
   "metadata": {},
   "outputs": [],
   "source": [
    "from sklearn.metrics import roc_curve"
   ]
  },
  {
   "cell_type": "code",
   "execution_count": 14,
   "id": "6608f824-682c-4e89-816b-d6252b820bce",
   "metadata": {},
   "outputs": [],
   "source": [
    "fpr1, tpr1, thresh1 = roc_curve(y_test, pred_prob1[:,1], pos_label=1)\n",
    "fpr2, tpr2, thresh2 = roc_curve(y_test, pred_prob2[:,1], pos_label=1)"
   ]
  },
  {
   "cell_type": "code",
   "execution_count": 16,
   "id": "bdcfabb8-0bf3-4325-a40b-c04cabfadff1",
   "metadata": {},
   "outputs": [
    {
     "name": "stdout",
     "output_type": "stream",
     "text": [
      "[0.         0.         0.         0.00609756 0.00609756 0.01219512\n",
      " 0.01219512 0.01829268 0.01829268 0.03658537 0.03658537 0.06707317\n",
      " 0.06707317 0.11585366 0.11585366 0.2195122  0.2195122  0.3597561\n",
      " 0.3597561  0.47560976 0.47560976 0.48780488 0.48780488 0.82926829\n",
      " 0.82926829 1.        ]\n"
     ]
    }
   ],
   "source": [
    "print(fpr1)"
   ]
  },
  {
   "cell_type": "code",
   "execution_count": 17,
   "id": "e9cff9ef-94eb-4d13-b441-81eabd62ec18",
   "metadata": {},
   "outputs": [
    {
     "data": {
      "text/plain": [
       "array([           inf, 9.99999863e-01, 8.65588756e-01, 8.62105823e-01,\n",
       "       8.23200101e-01, 8.11359173e-01, 7.90116277e-01, 7.48529287e-01,\n",
       "       5.75044603e-01, 4.05627935e-01, 3.50010204e-01, 3.29661037e-01,\n",
       "       2.77482187e-01, 1.85400755e-01, 1.82305000e-01, 1.12056714e-01,\n",
       "       1.11541620e-01, 5.61451628e-02, 5.57220417e-02, 4.40304674e-02,\n",
       "       4.11373367e-02, 3.96282991e-02, 3.64496331e-02, 5.08657454e-03,\n",
       "       4.66783543e-03, 3.18483553e-05])"
      ]
     },
     "execution_count": 17,
     "metadata": {},
     "output_type": "execute_result"
    }
   ],
   "source": [
    "thresh1"
   ]
  },
  {
   "cell_type": "code",
   "execution_count": 18,
   "id": "f52cc2b0-0b96-40e7-9592-cb356b6ebd49",
   "metadata": {},
   "outputs": [
    {
     "data": {
      "text/plain": [
       "array([ inf, 1.  , 0.75, 0.5 , 0.25, 0.  ])"
      ]
     },
     "execution_count": 18,
     "metadata": {},
     "output_type": "execute_result"
    }
   ],
   "source": [
    "thresh2"
   ]
  },
  {
   "cell_type": "code",
   "execution_count": null,
   "id": "f6accd3e-7a68-4bc5-8e09-9c5e6ca84c69",
   "metadata": {},
   "outputs": [],
   "source": []
  }
 ],
 "metadata": {
  "kernelspec": {
   "display_name": "Python 3 (ipykernel)",
   "language": "python",
   "name": "python3"
  },
  "language_info": {
   "codemirror_mode": {
    "name": "ipython",
    "version": 3
   },
   "file_extension": ".py",
   "mimetype": "text/x-python",
   "name": "python",
   "nbconvert_exporter": "python",
   "pygments_lexer": "ipython3",
   "version": "3.11.5"
  }
 },
 "nbformat": 4,
 "nbformat_minor": 5
}
